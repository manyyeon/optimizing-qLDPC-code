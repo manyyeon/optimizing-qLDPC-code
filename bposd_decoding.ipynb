{
 "cells": [
  {
   "cell_type": "code",
   "execution_count": null,
   "id": "01c52091",
   "metadata": {},
   "outputs": [
    {
     "name": "stdout",
     "output_type": "stream",
     "text": [
      "Stabilizer shape:\n",
      "[[0 1 0]\n",
      " [0 1 0]\n",
      " [1 0 1]]\n",
      "Rows: 3, Cols: 3\n",
      "Condition indices (dx, dy): [(1, 0), (2, -1), (2, 1)]\n",
      "Generating H matrix of size 102 x 136\n",
      "Generated Parity-Check Matrix H:\n",
      "\n",
      "Shape of H matrix: (102, 136)\n"
     ]
    }
   ],
   "source": [
    "import numpy as np\n",
    "from multiple_stabilizers import get_condition_indices, generate_parity_check_matrix\n",
    "\n",
    "\n",
    "H, L = 8, 17\n",
    "m = 3\n",
    "stabilizer_shape = np.array([[0, 1, 0],\n",
    "                            [0, 1, 0],\n",
    "                            [1, 0, 1]])\n",
    "\n",
    "condition_indices = get_condition_indices(stabilizer_shape)\n",
    "print(\"Condition indices (dx, dy):\", condition_indices)\n",
    "\n",
    "H_matrix = generate_parity_check_matrix(H, L, m, condition_indices)\n",
    "\n",
    "print(\"Generated Parity-Check Matrix H:\")\n",
    "# print H index of 1\n",
    "# for i in range(H_matrix.shape[0]):\n",
    "#     print(f'\\n${i} parity-check: ', end='')\n",
    "#     for j in range(H_matrix.shape[1]):\n",
    "#         if H_matrix[i][j] == 1:\n",
    "#             print(f\"({i}, {j})\", end=' ')\n",
    "print(\"\\nShape of H matrix:\", H_matrix.shape)\n",
    "# np.set_printoptions(threshold=np.inf, linewidth=np.inf)\n",
    "# print(H_matrix)"
   ]
  },
  {
   "cell_type": "code",
   "execution_count": 23,
   "id": "a1dcdb02",
   "metadata": {},
   "outputs": [
    {
     "name": "stderr",
     "output_type": "stream",
     "text": [
      "/Library/Frameworks/Python.framework/Versions/3.12/lib/python3.12/site-packages/ldpc/_legacy_ldpc_v1/_legacy_bposd_decoder.py:45: UserWarning: This is the old syntax for the `bposd_decoder` from `ldpc v1`. Use the `BpOsdDecoder` class from `ldpc v2` for additional features.\n",
      "  warnings.warn(\n"
     ]
    }
   ],
   "source": [
    "import numpy as np\n",
    "from ldpc import bposd_decoder\n",
    "\n",
    "bpd=bposd_decoder(\n",
    "    H_matrix,#the parity check matrix\n",
    "    error_rate=0.05,\n",
    "    channel_probs=[None], #assign error_rate to each qubit. This will override \"error_rate\" input variable\n",
    "    # max_iter=surface_code.N, #the maximum number of iterations for BP)\n",
    "    bp_method=\"ms\",\n",
    "    ms_scaling_factor=0, #min sum scaling factor. If set to zero the variable scaling factor method is used\n",
    "    osd_method=\"osd_cs\", #the OSD method. Choose from:  1) \"osd_e\", \"osd_cs\", \"osd0\"\n",
    "    osd_order=7 #the osd search depth\n",
    "    )"
   ]
  },
  {
   "cell_type": "code",
   "execution_count": 80,
   "id": "17af00a9",
   "metadata": {},
   "outputs": [
    {
     "name": "stdout",
     "output_type": "stream",
     "text": [
      "Input row:\n",
      "[[0 0 0 0 0 0 0 0 0 0 0 0 0 0 0 0 0]\n",
      " [0 0 0 0 0 0 0 0 1 0 0 0 0 0 0 0 0]]\n",
      "condition offsets list: [[(1, 0), (2, -1), (2, 1)]]\n",
      "Generated Z matrix:\n",
      "[[0 0 0 0 0 1 0 0 0 0 0 1 0 0 0 0 0]\n",
      " [0 0 0 0 0 1 1 0 0 0 1 1 0 0 0 0 0]\n",
      " [0 0 0 0 0 0 0 1 0 1 0 0 0 0 0 0 0]\n",
      " [0 0 0 0 0 0 1 1 0 1 1 0 0 0 0 0 0]\n",
      " [0 0 0 0 0 0 0 1 0 1 0 0 0 0 0 0 0]\n",
      " [0 0 0 0 0 0 0 1 0 1 0 0 0 0 0 0 0]\n",
      " [0 0 0 0 0 0 0 0 0 0 0 0 0 0 0 0 0]\n",
      " [0 0 0 0 0 0 0 0 1 0 0 0 0 0 0 0 0]]\n",
      "Shape of Z matrix: (8, 17)\n",
      "Flattened Z vector:\n",
      "[0 0 0 0 0 0 0 0 1 0 0 0 0 0 0 0 0 0 0 0 0 0 0 0 0 0 0 0 0 0 0 0 0 0 0 0 0\n",
      " 0 0 0 0 1 0 1 0 0 0 0 0 0 0 0 0 0 0 0 0 0 1 0 1 0 0 0 0 0 0 0 0 0 0 0 0 0\n",
      " 1 1 0 1 1 0 0 0 0 0 0 0 0 0 0 0 0 0 1 0 1 0 0 0 0 0 0 0 0 0 0 0 0 1 1 0 0\n",
      " 0 1 1 0 0 0 0 0 0 0 0 0 0 1 0 0 0 0 0 1 0 0 0 0 0]\n",
      "Error vector:\n",
      "[0 1 0 0 0 0 0 0 0 0 1 0 1 0 1 0 0 0 0 0 0 0 1 0 0 0 0 0 0 0 0 0 0 0 0 0 0\n",
      " 0 0 0 1 0 0 0 0 0 1 0 0 0 0 0 0 0 0 0 0 0 0 0 0 0 1 0 1 0 0 1 0 0 1 0 0 0\n",
      " 0 0 0 0 0 0 0 1 0 0 0 0 1 0 0 0 0 0 0 0 0 0 0 0 0 0 1 1 0 0 0 0 0 0 0 0 0\n",
      " 0 1 0 0 0 1 0 0 1 0 0 0 0 0 0 0 0 0 0 0 0 1 0 0 0]\n",
      "Received vector:\n",
      "[0 1 0 0 0 0 0 0 1 0 1 0 1 0 1 0 0 0 0 0 0 0 1 0 0 0 0 0 0 0 0 0 0 0 0 0 0\n",
      " 0 0 0 1 1 0 1 0 0 1 0 0 0 0 0 0 0 0 0 0 0 1 0 1 0 1 0 1 0 0 1 0 0 1 0 0 0\n",
      " 1 1 0 1 1 0 0 1 0 0 0 0 1 0 0 0 0 0 1 0 1 0 0 0 0 0 1 1 0 0 0 0 0 1 1 0 0\n",
      " 0 0 1 0 0 1 0 0 1 0 0 0 0 1 0 0 0 0 0 1 0 1 0 0 0]\n",
      "Syndrome:\n",
      "[1 0 1 0 0 1 1 0 0 1 0 0 1 0 0 1 0 0 0 0 0 1 0 0 0 0 0 0 1 1 1 0 0 1 0 0 1\n",
      " 0 0 1 0 1 0 0 0 0 0 1 0 0 1 1 1 1 0 0 0 0 0 0 0 1 0 0 1 1 0 1 0 0 0 1 0 0\n",
      " 0 0 0 0 1 0 1 0 0 1 1 1 0 1 0 0 0 0 0 0 0 1 0 0 1 0 1 1]\n",
      "Shape of syndrome: (102,)\n",
      "Error\n",
      "[0 1 0 0 0 0 0 0 0 0 1 0 1 0 1 0 0 0 0 0 0 0 1 0 0 0 0 0 0 0 0 0 0 0 0 0 0\n",
      " 0 0 0 1 0 0 0 0 0 1 0 0 0 0 0 0 0 0 0 0 0 0 0 0 0 1 0 1 0 0 1 0 0 1 0 0 0\n",
      " 0 0 0 0 0 0 0 1 0 0 0 0 1 0 0 0 0 0 0 0 0 0 0 0 0 0 1 1 0 0 0 0 0 0 0 0 0\n",
      " 0 1 0 0 0 1 0 0 1 0 0 0 0 0 0 0 0 0 0 0 0 1 0 0 0]\n",
      "BP+OSD Decoding\n",
      "[0 1 0 0 0 0 0 0 0 0 1 0 1 0 1 0 0 0 0 0 0 0 1 0 0 0 0 0 0 0 0 0 0 0 0 0 0\n",
      " 0 0 0 1 0 0 0 0 0 1 0 0 0 0 0 0 0 0 0 0 0 0 0 0 0 1 0 1 0 0 1 0 0 1 0 0 0\n",
      " 0 0 0 0 0 0 0 1 0 0 0 0 1 0 0 0 0 0 0 0 0 0 0 0 0 0 1 1 0 0 0 0 0 0 0 0 0\n",
      " 0 1 0 0 0 1 0 0 1 0 0 0 0 0 0 0 0 0 0 0 0 1 0 0 0]\n",
      "Residual Error:\n",
      "[0 0 0 0 0 0 0 0 0 0 0 0 0 0 0 0 0 0 0 0 0 0 0 0 0 0 0 0 0 0 0 0 0 0 0 0 0\n",
      " 0 0 0 0 0 0 0 0 0 0 0 0 0 0 0 0 0 0 0 0 0 0 0 0 0 0 0 0 0 0 0 0 0 0 0 0 0\n",
      " 0 0 0 0 0 0 0 0 0 0 0 0 0 0 0 0 0 0 0 0 0 0 0 0 0 0 0 0 0 0 0 0 0 0 0 0 0\n",
      " 0 0 0 0 0 0 0 0 0 0 0 0 0 0 0 0 0 0 0 0 0 0 0 0 0]\n",
      "Logical Error: No\n",
      "\n"
     ]
    }
   ],
   "source": [
    "from multiple_stabilizers import fill_Z_with_stabilizer_shape \n",
    "# input_row = np.random.randint(0, 2, size=(m-1, L))\n",
    "input_row = np.zeros((m-1, L), dtype=int)\n",
    "input_row[1][8] = 1\n",
    "print(\"Input row:\")\n",
    "print(input_row)\n",
    "\n",
    "Z = fill_Z_with_stabilizer_shape(input_row, H, L, m, [condition_indices], same_shape=True)\n",
    "print(\"Generated Z matrix:\")\n",
    "print(Z)\n",
    "print(\"Shape of Z matrix:\", Z.shape)\n",
    "\n",
    "Z = Z.flatten()[::-1]  # flatten and reverse\n",
    "print(\"Flattened Z vector:\")\n",
    "print(Z)\n",
    "\n",
    "error = np.zeros_like(Z, dtype=int)\n",
    "error_indices = np.random.choice(np.arange(len(Z)), size=19, replace=False)\n",
    "error[error_indices] = 1\n",
    "print(\"Error vector:\")\n",
    "print(error)\n",
    "\n",
    "received = (Z + error) % 2\n",
    "print(\"Received vector:\")\n",
    "print(received)\n",
    "\n",
    "# syndrome calculation\n",
    "syndrome = np.mod(H_matrix @ received, 2)\n",
    "print(\"Syndrome:\")\n",
    "print(syndrome)\n",
    "print(\"Shape of syndrome:\", syndrome.shape)\n",
    "\n",
    "bpd.decode(syndrome)\n",
    "\n",
    "print(\"Error\")\n",
    "print(error)\n",
    "print(\"BP+OSD Decoding\")\n",
    "print(bpd.osdw_decoding)\n",
    "#Decoding is successful if the residual error commutes with the logical operators\n",
    "residual_error=(bpd.osdw_decoding + error) %2\n",
    "print(\"Residual Error:\")\n",
    "print(residual_error)\n",
    "a=(Z @ residual_error%2).any()\n",
    "if a: a=\"Yes\"\n",
    "else: a=\"No\"\n",
    "print(f\"Logical Error: {a}\\n\")\n"
   ]
  },
  {
   "cell_type": "code",
   "execution_count": 79,
   "id": "989c4b88",
   "metadata": {},
   "outputs": [
    {
     "name": "stdout",
     "output_type": "stream",
     "text": [
      "Logical Error Rate: 0.0156\n"
     ]
    }
   ],
   "source": [
    "num_trials = 10000\n",
    "logical_errors = 0\n",
    "\n",
    "for _ in range(num_trials):\n",
    "    # generate random error\n",
    "    error = np.zeros_like(Z, dtype=int)\n",
    "    error_indices = np.random.choice(np.arange(len(Z)), size=19, replace=False)\n",
    "    error[error_indices] = 1\n",
    "\n",
    "    received = (Z + error) % 2\n",
    "    syndrome = np.mod(H_matrix @ received, 2)\n",
    "\n",
    "    bpd.decode(syndrome)\n",
    "    residual_error = (bpd.osdw_decoding + error) % 2\n",
    "    logical = (Z @ residual_error % 2).any()\n",
    "\n",
    "    if logical:\n",
    "        logical_errors += 1\n",
    "\n",
    "logical_error_rate = logical_errors / num_trials\n",
    "print(\"Logical Error Rate:\", logical_error_rate)\n"
   ]
  }
 ],
 "metadata": {
  "kernelspec": {
   "display_name": "Python 3",
   "language": "python",
   "name": "python3"
  },
  "language_info": {
   "codemirror_mode": {
    "name": "ipython",
    "version": 3
   },
   "file_extension": ".py",
   "mimetype": "text/x-python",
   "name": "python",
   "nbconvert_exporter": "python",
   "pygments_lexer": "ipython3",
   "version": "3.12.2"
  }
 },
 "nbformat": 4,
 "nbformat_minor": 5
}
