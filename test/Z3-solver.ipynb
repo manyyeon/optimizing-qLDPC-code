{
 "cells": [
  {
   "cell_type": "code",
   "execution_count": 7,
   "id": "af5eeb58",
   "metadata": {},
   "outputs": [
    {
     "name": "stdout",
     "output_type": "stream",
     "text": [
      "SAT: Valid stabilizer shapes found!\n",
      "\n",
      "Shape 0:\n",
      "[[0 1 0]\n",
      " [0 1 0]\n",
      " [1 0 1]]\n",
      "\n",
      "Shape 1:\n",
      "[[0 1 0]\n",
      " [1 0 1]\n",
      " [0 1 0]]\n",
      "\n"
     ]
    },
    {
     "data": {
      "text/html": [
       "[b2_0 = False,\n",
       " b3_1 = False,\n",
       " b5_0 = True,\n",
       " b4_0 = False,\n",
       " b0_1 = True,\n",
       " b0_0 = False,\n",
       " b3_0 = True,\n",
       " b2_1 = True,\n",
       " b4_1 = True,\n",
       " b1_0 = True,\n",
       " b5_1 = False,\n",
       " b1_1 = False]"
      ],
      "text/plain": [
       "[b2_0 = False,\n",
       " b3_1 = False,\n",
       " b5_0 = True,\n",
       " b4_0 = False,\n",
       " b0_1 = True,\n",
       " b0_0 = False,\n",
       " b3_0 = True,\n",
       " b2_1 = True,\n",
       " b4_1 = True,\n",
       " b1_0 = True,\n",
       " b5_1 = False,\n",
       " b1_1 = False]"
      ]
     },
     "execution_count": 7,
     "metadata": {},
     "output_type": "execute_result"
    }
   ],
   "source": [
    "from z3 import *\n",
    "import numpy as np\n",
    "\n",
    "def find_6bit_stabilizer_shapes(H=5, L=11, d=9, weight_limit=3):\n",
    "    s = Solver()\n",
    "    num_rows = H - 2  # number of stabilizer rows\n",
    "    b = [[Bool(f\"b{j}_{i}\") for j in range(6)] for i in range(num_rows)]  # 6-bit shape per row\n",
    "\n",
    "    # Constraint: at most 'weight_limit' 1's per stabilizer\n",
    "    for i in range(num_rows):\n",
    "        s.add(Sum([If(b[i][j], 1, 0) for j in range(6)]) <= weight_limit)\n",
    "\n",
    "    # Brute-force all 2-row initializations\n",
    "    for init_val in range(1, 2 ** (2 * L)):\n",
    "        bits = [bool((init_val >> i) & 1) for i in range(2 * L)]\n",
    "        Codeword = [BoolVal(bit) for bit in bits]\n",
    "\n",
    "        # Fill codeword based on stabilizer shape\n",
    "        for row in range(2, H):\n",
    "            for col in range(L):\n",
    "                shape = b[row - 2]\n",
    "\n",
    "                def shift(idx):\n",
    "                    return (col + idx + L) % L  # wrap around\n",
    "\n",
    "                ml = Codeword[(row - 1) * L + shift(-1)]  # bit 0\n",
    "                mc = Codeword[(row - 1) * L + shift( 0)]  # bit 1\n",
    "                mr = Codeword[(row - 1) * L + shift(+1)]  # bit 2\n",
    "                tl = Codeword[(row - 2) * L + shift(-1)]  # bit 3\n",
    "                tc = Codeword[(row - 2) * L + shift( 0)]  # bit 4\n",
    "                tr = Codeword[(row - 2) * L + shift(+1)]  # bit 5\n",
    "\n",
    "                new_bit = Xor(\n",
    "                    Xor(ml & shape[0], mc & shape[1]),\n",
    "                    Xor(mr & shape[2],\n",
    "                        Xor(tl & shape[3], tc & shape[4] ^ (tr & shape[5]))\n",
    "                    )\n",
    "                )\n",
    "\n",
    "                Codeword.append(new_bit)\n",
    "\n",
    "        s.add(Sum([If(bit, 1, 0) for bit in Codeword]) >= d)\n",
    "\n",
    "    if s.check() == sat:\n",
    "        model = s.model()\n",
    "        print(\"SAT: Valid stabilizer shapes found!\\n\")\n",
    "        for i in range(num_rows):\n",
    "            bits = [int(is_true(model.evaluate(b[i][j]))) for j in range(6)]\n",
    "            # Map to 3x3 matrix for visualization\n",
    "            shape = np.array([\n",
    "                [0, 1, 0],  # bottom row (n)\n",
    "                [bits[0], bits[1], bits[2]],  # middle row (n−1)\n",
    "                [bits[3], bits[4], bits[5]]  # top row (n−2)\n",
    "            ])\n",
    "            print(f\"Shape {i}:\\n{shape}\\n\")\n",
    "        return model\n",
    "    else:\n",
    "        print(\"UNSAT: No shape found meeting constraints.\")\n",
    "        return None\n",
    "\n",
    "# Run it\n",
    "find_6bit_stabilizer_shapes(H=4, L=5, d=5, weight_limit=3)\n"
   ]
  }
 ],
 "metadata": {
  "kernelspec": {
   "display_name": "Python 3",
   "language": "python",
   "name": "python3"
  },
  "language_info": {
   "codemirror_mode": {
    "name": "ipython",
    "version": 3
   },
   "file_extension": ".py",
   "mimetype": "text/x-python",
   "name": "python",
   "nbconvert_exporter": "python",
   "pygments_lexer": "ipython3",
   "version": "3.12.2"
  }
 },
 "nbformat": 4,
 "nbformat_minor": 5
}
