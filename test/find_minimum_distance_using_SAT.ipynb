{
 "cells": [
  {
   "cell_type": "code",
   "execution_count": 1,
   "id": "99487ae9",
   "metadata": {},
   "outputs": [
    {
     "name": "stdout",
     "output_type": "stream",
     "text": [
      "Checking for minimum distance d = 2...\n",
      "Variables: [x_0, x_1]\n",
      "SAT for d = 2:  [False, True, True, False]\n",
      "Checking for minimum distance d = 1...\n",
      "Variables: [x_0, x_1]\n",
      "Minimum distance d = 2\n"
     ]
    }
   ],
   "source": [
    "import z3\n",
    "\n",
    "# Example Generator Matrix G (2 x 4)\n",
    "G = [\n",
    "    [1, 0, 1, 1],\n",
    "    [0, 1, 1, 0]\n",
    "]\n",
    "\n",
    "k = len(G)      # number of logical qubits\n",
    "n = len(G[0])   # number of physical qubits\n",
    "\n",
    "def hamming_weight(codeword):\n",
    "    return sum([z3.If(bit, 1, 0) for bit in codeword])\n",
    "\n",
    "def find_minimum_distance(G):\n",
    "    k = len(G)\n",
    "    n = len(G[0])\n",
    "\n",
    "    dmin = 1\n",
    "    dmax = n\n",
    "\n",
    "    while dmin < dmax:\n",
    "        d = (dmin + dmax) // 2\n",
    "\n",
    "        s = z3.Solver()\n",
    "        ctx = s.ctx\n",
    "\n",
    "        # Boolean vars for basis selection\n",
    "        x = [z3.Bool(f\"x_{i}\") for i in range(k)]\n",
    "\n",
    "        print(f\"Checking for minimum distance d = {d}...\")\n",
    "        print(\"Variables:\", x)\n",
    "\n",
    "        # Generate codeword = x0 * G[0] ⊕ x1 * G[1] ⊕ ...\n",
    "        codeword = [z3.BoolVal(False) for _ in range(n)]\n",
    "\n",
    "        for i in range(k):\n",
    "            for j in range(n):\n",
    "                if G[i][j] == 1:\n",
    "                    codeword[j] = z3.Xor(codeword[j], x[i])\n",
    "\n",
    "        # Add constraint: at least one x_i is True (non-zero vector)\n",
    "        s.add(z3.Or(x))\n",
    "\n",
    "        # Add constraint: hamming weight ≤ d\n",
    "        s.add(hamming_weight(codeword) <= d)\n",
    "\n",
    "        if s.check() == z3.sat:\n",
    "            dmax = d\n",
    "            model = s.model()\n",
    "            print(f\"SAT for d = {d}: \", [model.evaluate(bit) for bit in codeword])\n",
    "        else:\n",
    "            dmin = d + 1\n",
    "\n",
    "    return dmin\n",
    "\n",
    "d = find_minimum_distance(G)\n",
    "print(\"Minimum distance d =\", d)\n",
    "\n"
   ]
  }
 ],
 "metadata": {
  "kernelspec": {
   "display_name": "Python 3",
   "language": "python",
   "name": "python3"
  },
  "language_info": {
   "codemirror_mode": {
    "name": "ipython",
    "version": 3
   },
   "file_extension": ".py",
   "mimetype": "text/x-python",
   "name": "python",
   "nbconvert_exporter": "python",
   "pygments_lexer": "ipython3",
   "version": "3.12.2"
  }
 },
 "nbformat": 4,
 "nbformat_minor": 5
}
